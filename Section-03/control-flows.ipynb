{
 "cells": [
  {
   "cell_type": "markdown",
   "metadata": {},
   "source": [
    "## For Loops and range\n"
   ]
  },
  {
   "cell_type": "code",
   "execution_count": null,
   "metadata": {},
   "outputs": [],
   "source": [
    "# This will print 1-9 since range's end value is non-inclusive\n",
    "for i in range(1, 10):\n",
    "    print(i)\n",
    "\n",
    "print(\"\\r\")\n",
    "\n",
    "# This will print the values between 1-9 BUT it will be stepping by 2\n",
    "for i in range(1, 10, 2):\n",
    "    print(i)"
   ]
  },
  {
   "cell_type": "markdown",
   "metadata": {},
   "source": [
    "## While Loop\n"
   ]
  },
  {
   "cell_type": "code",
   "execution_count": 9,
   "metadata": {},
   "outputs": [
    {
     "name": "stdout",
     "output_type": "stream",
     "text": [
      "Begin count: 0\n",
      "\n",
      "While count: 0\n",
      "While count: 1\n",
      "While count: 2\n",
      "While count: 3\n",
      "While count: 4\n",
      "\n",
      "Final count: 5\n"
     ]
    }
   ],
   "source": [
    "count = 0\n",
    "\n",
    "print(f\"Begin count: {count}\")\n",
    "\n",
    "print(\"\\r\")\n",
    "\n",
    "while count < 5:\n",
    "    print(f\"While count: {count}\")\n",
    "    count = count + 1\n",
    "\n",
    "print(\"\\r\")\n",
    "\n",
    "print(f\"Final count: {count}\")"
   ]
  },
  {
   "cell_type": "markdown",
   "metadata": {},
   "source": [
    "## Break, Continue, and Pass\n"
   ]
  },
  {
   "cell_type": "code",
   "execution_count": 13,
   "metadata": {},
   "outputs": [
    {
     "name": "stdout",
     "output_type": "stream",
     "text": [
      "1\n",
      "2\n",
      "3\n",
      "4\n",
      "\n",
      "1\n",
      "3\n",
      "5\n",
      "7\n",
      "9\n"
     ]
    }
   ],
   "source": [
    "# Once the loop satisfies the if statement, it will break out of the loop\n",
    "for i in range(1, 10):\n",
    "    if i == 5:\n",
    "        break\n",
    "    print(i)\n",
    "\n",
    "print(\"\\r\")\n",
    "\n",
    "\"\"\"\n",
    "If the conditional is satisfied i.e. i is even, it will not process anything after the conditional.\n",
    "It will just move to the next \"i\" value\n",
    "\"\"\"\n",
    "for i in range(1, 10):\n",
    "    if i % 2 == 0:\n",
    "        continue\n",
    "    print(i)\n",
    "\n",
    "\"\"\"\n",
    "This one I still don't get the use of...\n",
    "If the conditional is satisfied, the pass operator will just execute but it doesn't do anything\n",
    "That is why I need more context as to when I would use this...\n",
    "\"\"\"\n",
    "for i in range(1, 10):\n",
    "    if i % 2 == 0:\n",
    "        continue\n",
    "    print(i)"
   ]
  },
  {
   "cell_type": "markdown",
   "metadata": {},
   "source": [
    "## Nested For Loop\n"
   ]
  },
  {
   "cell_type": "code",
   "execution_count": 14,
   "metadata": {},
   "outputs": [
    {
     "name": "stdout",
     "output_type": "stream",
     "text": [
      "i: 0, j: 0\n",
      "i: 0, j: 1\n",
      "i: 0, j: 2\n",
      "i: 0, j: 3\n",
      "i: 1, j: 0\n",
      "i: 1, j: 1\n",
      "i: 1, j: 2\n",
      "i: 1, j: 3\n",
      "i: 2, j: 0\n",
      "i: 2, j: 1\n",
      "i: 2, j: 2\n",
      "i: 2, j: 3\n"
     ]
    }
   ],
   "source": [
    "for i in range(3):\n",
    "    for j in range(4):\n",
    "        print(f\"i: {i}, j: {j}\")"
   ]
  }
 ],
 "metadata": {
  "kernelspec": {
   "display_name": "venv",
   "language": "python",
   "name": "python3"
  },
  "language_info": {
   "codemirror_mode": {
    "name": "ipython",
    "version": 3
   },
   "file_extension": ".py",
   "mimetype": "text/x-python",
   "name": "python",
   "nbconvert_exporter": "python",
   "pygments_lexer": "ipython3",
   "version": "3.13.1"
  }
 },
 "nbformat": 4,
 "nbformat_minor": 2
}
