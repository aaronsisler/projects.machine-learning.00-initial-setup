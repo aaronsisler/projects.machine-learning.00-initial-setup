{
 "cells": [
  {
   "cell_type": "code",
   "execution_count": 3,
   "metadata": {},
   "outputs": [
    {
     "name": "stdout",
     "output_type": "stream",
     "text": [
      "{}\n",
      "<class 'dict'>\n",
      "{}\n",
      "<class 'dict'>\n"
     ]
    }
   ],
   "source": [
    "empty_dict = {}\n",
    "print(empty_dict)\n",
    "print(type(empty_dict))\n",
    "\n",
    "empty_dict = dict()\n",
    "print(empty_dict)\n",
    "print(type(empty_dict))"
   ]
  },
  {
   "cell_type": "code",
   "execution_count": 6,
   "metadata": {},
   "outputs": [
    {
     "name": "stdout",
     "output_type": "stream",
     "text": [
      "{'name': 'Aaron', 'age': 39}\n"
     ]
    }
   ],
   "source": [
    "my_dict = {\"name\": \"Aaron\", \"age\": 39}\n",
    "print(my_dict)"
   ]
  },
  {
   "cell_type": "code",
   "execution_count": 7,
   "metadata": {},
   "outputs": [
    {
     "name": "stdout",
     "output_type": "stream",
     "text": [
      "{'name': 'Another Name', 'age': 39}\n"
     ]
    }
   ],
   "source": [
    "# As you can see, it will overwrite the value of the prior key in the list.\n",
    "# This could be helpful for upsert style of workflows\n",
    "my_dict = {\"name\": \"Aaron\", \"age\": 39, \"name\": \"Another Name\"}\n",
    "print(my_dict)"
   ]
  },
  {
   "cell_type": "code",
   "execution_count": 22,
   "metadata": {},
   "outputs": [
    {
     "name": "stdout",
     "output_type": "stream",
     "text": [
      "{'name': 'Aaron', 'age': 39}\n",
      "Aaron\n",
      "None\n",
      "No value found\n",
      "name\n",
      "age\n",
      "Aaron\n",
      "39\n",
      "('name', 'Aaron')\n",
      "('age', 39)\n"
     ]
    }
   ],
   "source": [
    "my_dict = {\"name\": \"Aaron\", \"age\": 39}\n",
    "print(my_dict)\n",
    "print(my_dict.get(\"name\"))\n",
    "print(my_dict.get(\"invalid key\"))\n",
    "# This gives a default value if a key/value pair isn't found\n",
    "print(my_dict.get(\"invalid key\", \"No value found\"))\n",
    "for key in my_dict.keys():\n",
    "    print(key)\n",
    "\n",
    "for value in my_dict.values():\n",
    "    print(value)\n",
    "\n",
    "# Similar to the entries from Java\n",
    "for item in my_dict.items():\n",
    "    print(item)"
   ]
  },
  {
   "cell_type": "code",
   "execution_count": 20,
   "metadata": {},
   "outputs": [
    {
     "name": "stdout",
     "output_type": "stream",
     "text": [
      "{'name': 'Aaron', 'age': 39}\n",
      "{'name': 'Aaron', 'age': 39, 'new-key': None}\n",
      "{'name': 'Aaron', 'new-key': None}\n"
     ]
    }
   ],
   "source": [
    "my_dict = {\"name\": \"Aaron\", \"age\": 39}\n",
    "print(my_dict)\n",
    "my_dict[\"new-key\"] = None\n",
    "print(my_dict)\n",
    "del my_dict[\"age\"]\n",
    "print(my_dict)"
   ]
  },
  {
   "cell_type": "code",
   "execution_count": 24,
   "metadata": {},
   "outputs": [
    {
     "name": "stdout",
     "output_type": "stream",
     "text": [
      "{'name': 'Aaron', 'age': 39}\n",
      "{'name': 'Aaron', 'age': 39}\n",
      "{'name': 'Aaron', 'age': 39}\n",
      "{'name': 'New Name', 'age': 39}\n",
      "{'name': 'New Name', 'age': 39}\n"
     ]
    }
   ],
   "source": [
    "my_dict = {\"name\": \"Aaron\", \"age\": 39}\n",
    "print(my_dict)\n",
    "copy_dict = my_dict\n",
    "print(my_dict)\n",
    "print(copy_dict)\n",
    "my_dict[\"name\"] = \"New Name\"\n",
    "# This is without shallow copy\n",
    "print(my_dict)\n",
    "print(copy_dict)"
   ]
  },
  {
   "cell_type": "code",
   "execution_count": 25,
   "metadata": {},
   "outputs": [
    {
     "name": "stdout",
     "output_type": "stream",
     "text": [
      "{'name': 'Aaron', 'age': 39}\n",
      "{'name': 'Aaron', 'age': 39}\n",
      "{'name': 'New Name', 'age': 39}\n",
      "{'name': 'Aaron', 'age': 39}\n"
     ]
    }
   ],
   "source": [
    "my_dict = {\"name\": \"Aaron\", \"age\": 39}\n",
    "print(my_dict)\n",
    "copy_dict = my_dict.copy()\n",
    "print(copy_dict)\n",
    "my_dict[\"name\"] = \"New Name\"\n",
    "# This is with shallow copy\n",
    "print(my_dict)\n",
    "print(copy_dict)"
   ]
  },
  {
   "cell_type": "code",
   "execution_count": 28,
   "metadata": {},
   "outputs": [
    {
     "name": "stdout",
     "output_type": "stream",
     "text": [
      "{0: 0, 2: 4, 4: 16}\n"
     ]
    }
   ],
   "source": [
    "# It seems you can use the dict method name and the {} brackets were needed there\n",
    "even_dict = {x: x**2 for x in range(5) if x % 2 == 0}\n",
    "print(even_dict)"
   ]
  },
  {
   "cell_type": "code",
   "execution_count": 31,
   "metadata": {},
   "outputs": [
    {
     "name": "stdout",
     "output_type": "stream",
     "text": [
      "{1: 1, 2: 2, 3: 3, 4: 4}\n"
     ]
    }
   ],
   "source": [
    "numbers = [1, 2, 2, 3, 3, 3, 4, 4, 4, 4]\n",
    "count_nums = {}\n",
    "\n",
    "for num in numbers:\n",
    "    count_nums[num] = count_nums.get(num, 0) + 1\n",
    "\n",
    "print(count_nums)"
   ]
  },
  {
   "cell_type": "code",
   "execution_count": 33,
   "metadata": {},
   "outputs": [
    {
     "name": "stdout",
     "output_type": "stream",
     "text": [
      "{'name': 'Aaron', 'age': 40, 'job': 'Quant Dev'}\n",
      "{'name': 'Aaron', 'age': 39, 'job': 'Quant Dev'}\n"
     ]
    }
   ],
   "source": [
    "first_dict = {\"name\": \"Aaron\", \"age\": 39}\n",
    "second_dict = {\"name\": \"Aaron\", \"age\": 40, \"job\": \"Quant Dev\"}\n",
    "\n",
    "first_merged_dict = {**first_dict, **second_dict}\n",
    "print(first_merged_dict)\n",
    "\n",
    "second_merged_dict = {**second_dict, **first_dict}\n",
    "print(second_merged_dict)"
   ]
  }
 ],
 "metadata": {
  "kernelspec": {
   "display_name": "venv",
   "language": "python",
   "name": "python3"
  },
  "language_info": {
   "codemirror_mode": {
    "name": "ipython",
    "version": 3
   },
   "file_extension": ".py",
   "mimetype": "text/x-python",
   "name": "python",
   "nbconvert_exporter": "python",
   "pygments_lexer": "ipython3",
   "version": "3.13.1"
  }
 },
 "nbformat": 4,
 "nbformat_minor": 2
}
