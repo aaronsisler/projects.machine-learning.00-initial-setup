{
 "cells": [
  {
   "cell_type": "code",
   "execution_count": 8,
   "metadata": {},
   "outputs": [
    {
     "name": "stdout",
     "output_type": "stream",
     "text": [
      "Positive Indexes\n",
      "First\n",
      "Second\n",
      "Third\n",
      "Negative Indexes\n",
      "Third\n",
      "Second\n",
      "['First', 'Second', 'Third']\n",
      "['Second', 'Third']\n",
      "['Third']\n",
      "['First', 'Not Second!', 'Third']\n"
     ]
    }
   ],
   "source": [
    "elements = [\"First\", \"Second\", \"Third\"]\n",
    "print(\"Positive Indexes\")\n",
    "print(elements[0])\n",
    "print(elements[1])\n",
    "print(elements[2])\n",
    "print(\"Negative Indexes\")\n",
    "print(elements[-1])\n",
    "print(elements[-2])\n",
    "print(elements[0:])\n",
    "print(elements[1:])\n",
    "print(elements[2:])\n",
    "elements[1] = \"Not Second!\"\n",
    "print(elements[0:])"
   ]
  },
  {
   "cell_type": "code",
   "execution_count": 14,
   "metadata": {},
   "outputs": [
    {
     "name": "stdout",
     "output_type": "stream",
     "text": [
      "['First', 'Second', 'Third']\n",
      "['First', 'Second', 'Third', 'Fourth', 'Fourth']\n",
      "['First', 'Second', 'Third', 'Fourth']\n",
      "['First', 'Second', 'Third', 'Fourth', 'Fourth']\n",
      "['First', 'Second', 'Third', 'Fourth']\n",
      "Fourth\n"
     ]
    }
   ],
   "source": [
    "elements = [\"First\", \"Second\", \"Third\"]\n",
    "print(elements)\n",
    "elements.append(\"Fourth\")\n",
    "elements.append(\"Fourth\")\n",
    "print(elements)\n",
    "elements.remove(\"Fourth\")\n",
    "print(elements)\n",
    "elements.append(\"Fourth\")\n",
    "print(elements)\n",
    "popped_element = elements.pop()\n",
    "print(elements)\n",
    "print(popped_element)"
   ]
  },
  {
   "cell_type": "code",
   "execution_count": 17,
   "metadata": {},
   "outputs": [
    {
     "name": "stdout",
     "output_type": "stream",
     "text": [
      "['First', 'Second', 'Third']\n",
      "['First', 'Second', 'Third', 'Fourth', 'Fourth']\n",
      "2\n",
      "['Fourth', 'Fourth', 'Third', 'Second', 'First']\n"
     ]
    }
   ],
   "source": [
    "elements = [\"First\", \"Second\", \"Third\"]\n",
    "print(elements)\n",
    "elements.append(\"Fourth\")\n",
    "elements.append(\"Fourth\")\n",
    "print(elements)\n",
    "print(elements.count(\"Fourth\"))\n",
    "# Note that this mutates the original list and returns None\n",
    "elements.reverse()\n",
    "print(elements)"
   ]
  },
  {
   "cell_type": "code",
   "execution_count": 24,
   "metadata": {},
   "outputs": [
    {
     "name": "stdout",
     "output_type": "stream",
     "text": [
      "[3, 4, 5]\n",
      "[1, 2, 3, 4, 5]\n",
      "[6, 7, 8, 9, 10]\n",
      "[1, 2, 3, 4, 5, 6, 7, 8, 9, 10]\n",
      "[1, 3, 5, 7, 9]\n",
      "[10, 9, 8, 7, 6, 5, 4, 3, 2, 1]\n",
      "[10, 8, 6, 4, 2]\n"
     ]
    }
   ],
   "source": [
    "nums = [1, 2, 3, 4, 5, 6, 7, 8, 9, 10]\n",
    "print(nums[2:5])\n",
    "print(nums[:5])\n",
    "print(nums[5:])\n",
    "print(nums[::])\n",
    "print(nums[::2])\n",
    "print(nums[::-1])\n",
    "print(nums[::-2])"
   ]
  },
  {
   "cell_type": "code",
   "execution_count": 27,
   "metadata": {},
   "outputs": [
    {
     "name": "stdout",
     "output_type": "stream",
     "text": [
      "1\n",
      "2\n",
      "3\n",
      "4\n",
      "5\n",
      "6\n",
      "7\n",
      "8\n",
      "9\n",
      "10\n",
      "Index and value\n",
      "0 1\n",
      "1 2\n",
      "2 3\n",
      "3 4\n",
      "4 5\n",
      "5 6\n",
      "6 7\n",
      "7 8\n",
      "8 9\n",
      "9 10\n"
     ]
    }
   ],
   "source": [
    "nums = [1, 2, 3, 4, 5, 6, 7, 8, 9, 10]\n",
    "\n",
    "for number in nums:\n",
    "    print(number)\n",
    "\n",
    "print(\"Index and value\")\n",
    "\n",
    "for index, number in enumerate(nums):\n",
    "    print(index, number)"
   ]
  },
  {
   "cell_type": "code",
   "execution_count": 31,
   "metadata": {},
   "outputs": [
    {
     "name": "stdout",
     "output_type": "stream",
     "text": [
      "[0, 1, 4, 9, 16, 25, 36, 49, 64, 81]\n",
      "[0, 1, 4, 9, 16, 25, 36, 49, 64, 81]\n",
      "[0, 4, 16, 36, 64]\n"
     ]
    }
   ],
   "source": [
    "squared_list = []\n",
    "\n",
    "for x in range(10):\n",
    "    squared_list.append(x**2)\n",
    "\n",
    "print(squared_list)\n",
    "\n",
    "comped_list = [x**2 for x in range(10)]\n",
    "print(comped_list)\n",
    "\n",
    "even_nums_that_are_then_squared = [num**2 for num in range(10) if num % 2 == 0]\n",
    "print(even_nums_that_are_then_squared)"
   ]
  },
  {
   "cell_type": "code",
   "execution_count": 33,
   "metadata": {},
   "outputs": [
    {
     "name": "stdout",
     "output_type": "stream",
     "text": [
      "(1, 'a')\n",
      "(1, 'b')\n",
      "(1, 'c')\n",
      "(1, 'd')\n",
      "(1, 'e')\n",
      "(2, 'a')\n",
      "(2, 'b')\n",
      "(2, 'c')\n",
      "(2, 'd')\n",
      "(2, 'e')\n",
      "(3, 'a')\n",
      "(3, 'b')\n",
      "(3, 'c')\n",
      "(3, 'd')\n",
      "(3, 'e')\n",
      "(4, 'a')\n",
      "(4, 'b')\n",
      "(4, 'c')\n",
      "(4, 'd')\n",
      "(4, 'e')\n",
      "(5, 'a')\n",
      "(5, 'b')\n",
      "(5, 'c')\n",
      "(5, 'd')\n",
      "(5, 'e')\n"
     ]
    }
   ],
   "source": [
    "listOne = [1, 2, 3, 4, 5]\n",
    "listTwo = [\"a\", \"b\", \"c\", \"d\", \"e\"]\n",
    "\n",
    "pair = [(i, j) for i in listOne for j in listTwo]\n",
    "for value in pair:\n",
    "    print(value)"
   ]
  },
  {
   "cell_type": "code",
   "execution_count": 34,
   "metadata": {},
   "outputs": [
    {
     "name": "stdout",
     "output_type": "stream",
     "text": [
      "[4, 5, 8, 6]\n"
     ]
    }
   ],
   "source": [
    "words = [\"five\", \"seven\", \"fourteen\", \"longer\"]\n",
    "\n",
    "word_lengths = [len(word) for word in words]\n",
    "print(word_lengths)"
   ]
  }
 ],
 "metadata": {
  "kernelspec": {
   "display_name": "venv",
   "language": "python",
   "name": "python3"
  },
  "language_info": {
   "codemirror_mode": {
    "name": "ipython",
    "version": 3
   },
   "file_extension": ".py",
   "mimetype": "text/x-python",
   "name": "python",
   "nbconvert_exporter": "python",
   "pygments_lexer": "ipython3",
   "version": "3.13.1"
  }
 },
 "nbformat": 4,
 "nbformat_minor": 2
}
