{
 "cells": [
  {
   "cell_type": "markdown",
   "metadata": {},
   "source": [
    "Sets store collections of unique items.\n",
    "Items cannot be duplicated.\n",
    "Items are unordered.\n"
   ]
  },
  {
   "cell_type": "code",
   "execution_count": 2,
   "metadata": {},
   "outputs": [
    {
     "name": "stdout",
     "output_type": "stream",
     "text": [
      "{1, 2, 3, 4, 5}\n",
      "<class 'set'>\n",
      "[1, 2, 2, 3]\n",
      "{1, 2, 3}\n"
     ]
    }
   ],
   "source": [
    "my_set = {1, 2, 3, 4, 5}\n",
    "print(my_set)\n",
    "print(type(my_set))\n",
    "\n",
    "# Note that the 2 is duplicated on purpose\n",
    "my_list = [1, 2, 2, 3]\n",
    "print(my_list)\n",
    "my_list_set = set(my_list)\n",
    "# You can see when creating the set, the duplicate 2 was removed\n",
    "print(my_list_set)"
   ]
  },
  {
   "cell_type": "code",
   "execution_count": 9,
   "metadata": {},
   "outputs": [
    {
     "name": "stdout",
     "output_type": "stream",
     "text": [
      "{1, 2, 3, 4, 5}\n",
      "{1, 2, 3, 4, 5}\n",
      "{1, 2, 3, 4, 5, 6}\n",
      "{1, 2, 3, 4, 6}\n",
      "{1, 2, 3, 4, 6}\n",
      "set()\n"
     ]
    }
   ],
   "source": [
    "my_set = {1, 2, 3, 4, 5}\n",
    "print(my_set)\n",
    "my_set.add(5)\n",
    "print(my_set)\n",
    "my_set.add(6)\n",
    "print(my_set)\n",
    "my_set.remove(5)\n",
    "print(my_set)\n",
    "# Discard is similar to remove BUT it doesn't throw an error if that element doesn't exist\n",
    "my_set.discard(10)\n",
    "print(my_set)\n",
    "# You can't remove something from a set when it doesn't exist hence the Key Error\n",
    "# my_set.remove(10)\n",
    "# print(my_set)\n",
    "my_set.clear()\n",
    "print(my_set)"
   ]
  },
  {
   "cell_type": "code",
   "execution_count": 14,
   "metadata": {},
   "outputs": [
    {
     "name": "stdout",
     "output_type": "stream",
     "text": [
      "{1, 2, 3, 4, 5, 6, 7, 8}\n",
      "{4, 5}\n",
      "{1, 2, 3}\n",
      "{8, 6, 7}\n",
      "{1, 2, 3, 6, 7, 8}\n"
     ]
    }
   ],
   "source": [
    "first_set = {1, 2, 3, 4, 5}\n",
    "second_set = {4, 5, 6, 7, 8}\n",
    "\n",
    "union_set = first_set.union(second_set)\n",
    "print(union_set)\n",
    "\n",
    "intersection_set = first_set.intersection(second_set)\n",
    "print(intersection_set)\n",
    "\n",
    "# Whatever is in the first set and also in the second set will be excluded in the returned set\n",
    "first_difference_set = first_set.difference(second_set)\n",
    "print(first_difference_set)\n",
    "# This showcases the reverse\n",
    "second_difference_set = second_set.difference(first_set)\n",
    "print(second_difference_set)\n",
    "\n",
    "# This returns what is unique both sets i.e. removes the intersecting elements\n",
    "symmetric_difference = first_set.symmetric_difference(second_set)\n",
    "print(symmetric_difference)"
   ]
  }
 ],
 "metadata": {
  "kernelspec": {
   "display_name": "venv",
   "language": "python",
   "name": "python3"
  },
  "language_info": {
   "codemirror_mode": {
    "name": "ipython",
    "version": 3
   },
   "file_extension": ".py",
   "mimetype": "text/x-python",
   "name": "python",
   "nbconvert_exporter": "python",
   "pygments_lexer": "ipython3",
   "version": "3.13.1"
  }
 },
 "nbformat": 4,
 "nbformat_minor": 2
}
