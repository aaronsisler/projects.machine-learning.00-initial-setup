{
 "cells": [
  {
   "cell_type": "code",
   "execution_count": 18,
   "metadata": {},
   "outputs": [
    {
     "name": "stdout",
     "output_type": "stream",
     "text": [
      "4\n",
      "15\n"
     ]
    }
   ],
   "source": [
    "def add_function(param_one=0, param_two=0):\n",
    "    \"\"\"This is my adding function\"\"\"\n",
    "\n",
    "    return param_one + param_two\n",
    "\n",
    "\n",
    "def add_function_kwargs(**kwargs):\n",
    "    \"\"\"This is my adding function\"\"\"\n",
    "\n",
    "    return kwargs[\"param_one\"] + kwargs[\"param_three\"]\n",
    "\n",
    "\n",
    "output = add_function(1, 3)\n",
    "output_args = add_function_kwargs(param_one=1, param_two=17, param_three=14)\n",
    "\n",
    "print(output)\n",
    "print(output_args)"
   ]
  },
  {
   "cell_type": "code",
   "execution_count": 19,
   "metadata": {},
   "outputs": [
    {
     "name": "stdout",
     "output_type": "stream",
     "text": [
      "3\n",
      "7\n"
     ]
    }
   ],
   "source": [
    "def addition_function(a, b):\n",
    "    return a + b\n",
    "\n",
    "\n",
    "addition_lambda = lambda a, b: a + b\n",
    "\n",
    "output = addition_function(1, 2)\n",
    "print(output)\n",
    "output = addition_lambda(3, 4)\n",
    "print(output)"
   ]
  },
  {
   "cell_type": "code",
   "execution_count": 22,
   "metadata": {},
   "outputs": [
    {
     "name": "stdout",
     "output_type": "stream",
     "text": [
      "[1, 4, 9, 16, 25]\n"
     ]
    }
   ],
   "source": [
    "numbers = [1, 2, 3, 4, 5]\n",
    "\n",
    "\n",
    "def square_func(number):\n",
    "    return number**2\n",
    "\n",
    "\n",
    "square = lambda x: x**2\n",
    "\n",
    "# Mentioned a lazy loading so wrapping in a list causes the output to show\n",
    "output = list(map(square, numbers))\n",
    "print(output)"
   ]
  },
  {
   "cell_type": "code",
   "execution_count": 23,
   "metadata": {},
   "outputs": [
    {
     "name": "stdout",
     "output_type": "stream",
     "text": [
      "[4, 7, 7, 6, 6]\n"
     ]
    }
   ],
   "source": [
    "numbers_one = [1, 2, 3, 4, 5]\n",
    "numbers_two = [3, 5, 4, 2, 1]\n",
    "\n",
    "\n",
    "added = lambda x, y: x + y\n",
    "\n",
    "# Mentioned a lazy loading so wrapping in a list causes the output to show\n",
    "output = list(map(added, numbers_one, numbers_two))\n",
    "print(output)"
   ]
  },
  {
   "cell_type": "code",
   "execution_count": 29,
   "metadata": {},
   "outputs": [
    {
     "name": "stdout",
     "output_type": "stream",
     "text": [
      "[1, 2, 3, 4, 5]\n"
     ]
    }
   ],
   "source": [
    "# If you make any of these a non-integer value, it throws a ValueError\n",
    "numbers_strings = [\"1\", \"2\", \"3\", \"4\", \"5\"]\n",
    "\n",
    "numbers_ints = list(map(int, numbers_strings))\n",
    "print(numbers_ints)"
   ]
  },
  {
   "cell_type": "code",
   "execution_count": 30,
   "metadata": {},
   "outputs": [
    {
     "name": "stdout",
     "output_type": "stream",
     "text": [
      "['TACO', 'BANANA']\n"
     ]
    }
   ],
   "source": [
    "lower_strings = [\"taco\", \"banana\"]\n",
    "output = list(map(str.upper, lower_strings))\n",
    "print(output)"
   ]
  },
  {
   "cell_type": "code",
   "execution_count": 33,
   "metadata": {},
   "outputs": [
    {
     "name": "stdout",
     "output_type": "stream",
     "text": [
      "[2, 4, 6, 8]\n"
     ]
    }
   ],
   "source": [
    "filter_even = lambda x: x % 2 == 0\n",
    "numbers = [1, 2, 3, 4, 5, 6, 7, 8]\n",
    "\n",
    "output = list(filter(filter_even, numbers))\n",
    "print(output)"
   ]
  }
 ],
 "metadata": {
  "kernelspec": {
   "display_name": "venv",
   "language": "python",
   "name": "python3"
  },
  "language_info": {
   "codemirror_mode": {
    "name": "ipython",
    "version": 3
   },
   "file_extension": ".py",
   "mimetype": "text/x-python",
   "name": "python",
   "nbconvert_exporter": "python",
   "pygments_lexer": "ipython3",
   "version": "3.13.1"
  }
 },
 "nbformat": 4,
 "nbformat_minor": 2
}
