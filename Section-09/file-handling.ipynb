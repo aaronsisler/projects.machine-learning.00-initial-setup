{
 "cells": [
  {
   "cell_type": "code",
   "execution_count": 4,
   "metadata": {},
   "outputs": [
    {
     "name": "stdout",
     "output_type": "stream",
     "text": [
      "Start content\n",
      "What is up?\n",
      "My name is Johnny Appleseed!\n",
      "\n",
      "\n",
      "2 steps below the two empty lines.\n",
      "End content\n"
     ]
    }
   ],
   "source": [
    "with open(\"example.txt\", \"r\") as file:\n",
    "    content = file.read()\n",
    "    print(\"Start content\")\n",
    "    print(content)\n",
    "    print(\"End content\")"
   ]
  },
  {
   "cell_type": "code",
   "execution_count": 13,
   "metadata": {},
   "outputs": [
    {
     "name": "stdout",
     "output_type": "stream",
     "text": [
      "What is up?\n",
      "My name is Johnny Appleseed!\n",
      "\n",
      "\n",
      "2 steps below the two empty lines.\n"
     ]
    }
   ],
   "source": [
    "with open(\"example.txt\", mode=\"r\") as file:\n",
    "    for line in file:\n",
    "        print(line.strip())"
   ]
  },
  {
   "cell_type": "code",
   "execution_count": 15,
   "metadata": {},
   "outputs": [],
   "source": [
    "with open(\"example_write_txt.txt\", mode=\"w\") as file:\n",
    "    file.write(\"I am a new line\")\n",
    "    file.write(\"\\n\")\n",
    "    file.write(\"And yet ANOTHER line!!\")\n",
    "    file.write(\"\\n\")\n",
    "\n",
    "with open(\"example_write_txt.txt\", mode=\"a\") as file:\n",
    "    file.write(\"I am a new line\")\n",
    "    file.write(\"\\n\")\n",
    "    file.write(\"And yet ANOTHER line!!\")\n",
    "    file.write(\"\\n\")"
   ]
  },
  {
   "cell_type": "code",
   "execution_count": 20,
   "metadata": {},
   "outputs": [
    {
     "name": "stdout",
     "output_type": "stream",
     "text": [
      "byte_content\n",
      "\u0000\u0001\u0002\u0003\n",
      "byte_content\n"
     ]
    }
   ],
   "source": [
    "data = b\"\\x00\\x01\\x02\\x03\"\n",
    "\n",
    "with open(\"example_write_byte.bin\", mode=\"wb\") as file:\n",
    "    file.write(data)\n",
    "\n",
    "with open(\"example_write_byte.bin\", mode=\"rb\") as file:\n",
    "    content = file.read()\n",
    "    byte_content = content.decode(\"utf-8\")\n",
    "    print(\"byte_content\")\n",
    "    print(byte_content)\n",
    "    print(\"byte_content\")"
   ]
  }
 ],
 "metadata": {
  "kernelspec": {
   "display_name": "venv",
   "language": "python",
   "name": "python3"
  },
  "language_info": {
   "codemirror_mode": {
    "name": "ipython",
    "version": 3
   },
   "file_extension": ".py",
   "mimetype": "text/x-python",
   "name": "python",
   "nbconvert_exporter": "python",
   "pygments_lexer": "ipython3",
   "version": "3.13.1"
  }
 },
 "nbformat": 4,
 "nbformat_minor": 2
}
