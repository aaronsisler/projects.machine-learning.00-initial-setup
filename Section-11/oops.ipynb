{
 "cells": [
  {
   "cell_type": "code",
   "execution_count": 16,
   "metadata": {},
   "outputs": [
    {
     "name": "stdout",
     "output_type": "stream",
     "text": [
      "<class '__main__.Person'>\n",
      "Aaron\n",
      "12345\n",
      "<class '__main__.Employee'>\n",
      "Ron\n",
      "54321\n"
     ]
    }
   ],
   "source": [
    "class Person:\n",
    "    ## Constructor\n",
    "    def __init__(self, name, social):\n",
    "        self._name = name\n",
    "        self.__social = social\n",
    "\n",
    "    def get_name(self):\n",
    "        return self._name\n",
    "\n",
    "    def set_name(self, name):\n",
    "        self._name = name\n",
    "\n",
    "    def get_social(self):\n",
    "        return self.__social\n",
    "\n",
    "    def set_social(self, social):\n",
    "        self.__social = social\n",
    "\n",
    "\n",
    "class Employee(Person):\n",
    "    def __init__(self, name, social):\n",
    "        super().__init__(name, social)\n",
    "\n",
    "\n",
    "aaron = Person(\"Aaron\", 12345)\n",
    "ron = Employee(\"Ron\", 54321)\n",
    "\n",
    "print(type(aaron))\n",
    "# Below is hidden so this throws an error\n",
    "# print(aaron.__social)\n",
    "# Below seems to work given it is protected and not private\n",
    "# print(aaron._name)\n",
    "print(aaron.get_name())\n",
    "print(aaron.get_social())\n",
    "print(type(ron))\n",
    "print(ron.get_name())\n",
    "print(ron.get_social())"
   ]
  }
 ],
 "metadata": {
  "kernelspec": {
   "display_name": "venv",
   "language": "python",
   "name": "python3"
  },
  "language_info": {
   "codemirror_mode": {
    "name": "ipython",
    "version": 3
   },
   "file_extension": ".py",
   "mimetype": "text/x-python",
   "name": "python",
   "nbconvert_exporter": "python",
   "pygments_lexer": "ipython3",
   "version": "3.13.1"
  }
 },
 "nbformat": 4,
 "nbformat_minor": 2
}
