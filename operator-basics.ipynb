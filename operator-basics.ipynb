{
 "cells": [
  {
   "cell_type": "markdown",
   "metadata": {},
   "source": [
    "## Operators\n"
   ]
  },
  {
   "cell_type": "markdown",
   "metadata": {},
   "source": [
    "### Floor\n"
   ]
  },
  {
   "cell_type": "code",
   "execution_count": 1,
   "metadata": {},
   "outputs": [
    {
     "name": "stdout",
     "output_type": "stream",
     "text": [
      "floor_var: 4\n"
     ]
    }
   ],
   "source": [
    "floor_var = 21 // 5\n",
    "print(\"floor_var:\", floor_var)"
   ]
  },
  {
   "cell_type": "markdown",
   "metadata": {},
   "source": [
    "### Modulus\n"
   ]
  },
  {
   "cell_type": "code",
   "execution_count": 8,
   "metadata": {},
   "outputs": [
    {
     "name": "stdout",
     "output_type": "stream",
     "text": [
      "modulus_var: 0\n",
      "\n",
      "modulus_var: 1\n"
     ]
    }
   ],
   "source": [
    "modulus_var = 21 % 7\n",
    "print(\"modulus_var:\", modulus_var)\n",
    "\n",
    "print(\"\\r\")\n",
    "\n",
    "modulus_var = 21 % 4\n",
    "print(\"modulus_var:\", modulus_var)"
   ]
  },
  {
   "cell_type": "markdown",
   "metadata": {},
   "source": [
    "### Logical Operators\n"
   ]
  },
  {
   "cell_type": "markdown",
   "metadata": {},
   "source": [
    "#### AND\n"
   ]
  },
  {
   "cell_type": "code",
   "execution_count": 13,
   "metadata": {},
   "outputs": [
    {
     "name": "stdout",
     "output_type": "stream",
     "text": [
      "True_Var and True_Var: True\n",
      "True_Var and False_Var: False\n",
      "False_Var and False_Var: False\n"
     ]
    }
   ],
   "source": [
    "true_var = True\n",
    "false_var = False\n",
    "\n",
    "print(\"True_Var and True_Var:\", true_var and true_var)\n",
    "print(\"True_Var and False_Var:\", true_var and false_var)\n",
    "print(\"False_Var and False_Var:\", false_var and false_var)"
   ]
  },
  {
   "cell_type": "markdown",
   "metadata": {},
   "source": [
    "#### OR\n"
   ]
  },
  {
   "cell_type": "code",
   "execution_count": 11,
   "metadata": {},
   "outputs": [
    {
     "name": "stdout",
     "output_type": "stream",
     "text": [
      "True or True: True\n",
      "True or False: True\n",
      "False or False: False\n"
     ]
    }
   ],
   "source": [
    "true_var = True\n",
    "false_var = False\n",
    "\n",
    "print(\"True_Var or True_Var:\", true_var or true_var)\n",
    "print(\"True_Var or False_Var:\", true_var or false_var)\n",
    "print(\"False_Var or False_Var:\", false_var or false_var)"
   ]
  },
  {
   "cell_type": "markdown",
   "metadata": {},
   "source": [
    "#### NOT\n"
   ]
  },
  {
   "cell_type": "code",
   "execution_count": 12,
   "metadata": {},
   "outputs": [
    {
     "name": "stdout",
     "output_type": "stream",
     "text": [
      "NOT True_Var: False\n",
      "NOT False_Var: True\n"
     ]
    }
   ],
   "source": [
    "true_var = True\n",
    "false_var = False\n",
    "\n",
    "print(\"NOT True_Var:\", not true_var)\n",
    "print(\"NOT False_Var:\", not false_var)"
   ]
  }
 ],
 "metadata": {
  "kernelspec": {
   "display_name": "venv",
   "language": "python",
   "name": "python3"
  },
  "language_info": {
   "codemirror_mode": {
    "name": "ipython",
    "version": 3
   },
   "file_extension": ".py",
   "mimetype": "text/x-python",
   "name": "python",
   "nbconvert_exporter": "python",
   "pygments_lexer": "ipython3",
   "version": "3.13.1"
  }
 },
 "nbformat": 4,
 "nbformat_minor": 2
}
