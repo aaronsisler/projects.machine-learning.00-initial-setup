{
 "cells": [
  {
   "cell_type": "markdown",
   "metadata": {},
   "source": [
    "## Refresher on basic things along with the Black Formatter extension installation\n"
   ]
  },
  {
   "cell_type": "code",
   "execution_count": 10,
   "metadata": {},
   "outputs": [
    {
     "name": "stdout",
     "output_type": "stream",
     "text": [
      "is_above_age: False\n",
      "is_above_age: True\n",
      "I am here in the if\n",
      "I am after the if\n"
     ]
    }
   ],
   "source": [
    "age = 320\n",
    "\n",
    "# Booleans are True/False and are uppercase #weird\n",
    "is_above_age = False\n",
    "\n",
    "print(\"is_above_age:\", is_above_age)\n",
    "\n",
    "is_above_age = age > 300\n",
    "\n",
    "print(\"is_above_age:\", is_above_age)\n",
    "\n",
    "if is_above_age:\n",
    "    print(\"I am here in the if\")\n",
    "\n",
    "print(\"I am after the if\")"
   ]
  },
  {
   "cell_type": "code",
   "execution_count": 11,
   "metadata": {},
   "outputs": [
    {
     "name": "stdout",
     "output_type": "stream",
     "text": [
      "age1: 32\n",
      "age2: 33\n"
     ]
    }
   ],
   "source": [
    "# Single hashtag is a single line comment\n",
    "\"\"\"\n",
    "Three single or double quotes like this is how you do\n",
    "a multilne comment. \n",
    "It seems Black Formatter changes single to double quotes though.\n",
    "\"\"\"\n",
    "\n",
    "age1 = 32\n",
    "age2 = 33\n",
    "print(\"age1:\", age1)\n",
    "print(\"age2:\", age2)"
   ]
  },
  {
   "cell_type": "code",
   "execution_count": 12,
   "metadata": {},
   "outputs": [
    {
     "name": "stdout",
     "output_type": "stream",
     "text": [
      "age: 52\n"
     ]
    }
   ],
   "source": [
    "# This section is about the continuation operator which is the \\ symbol/operator\n",
    "# BUT it seems Black Formatter does not like this and just figures it out in a different way... I like it but interesting for sure\n",
    "\n",
    "age = 1 + 2 + 3 + 4 + 1 + 2 + 3 + 4 + 1 + 2 + 3 + 4 + 1 + 2 + 3 + 4 + 4 + 4 + 4\n",
    "print(\"age:\", age)"
   ]
  },
  {
   "cell_type": "markdown",
   "metadata": {},
   "source": [
    "## Types in Python\n"
   ]
  },
  {
   "cell_type": "markdown",
   "metadata": {},
   "source": [
    "### Check the type of reassigned variables\n"
   ]
  },
  {
   "cell_type": "code",
   "execution_count": 48,
   "metadata": {},
   "outputs": [
    {
     "name": "stdout",
     "output_type": "stream",
     "text": [
      "type of reassigned_variable: <class 'int'>\n",
      "type of reassigned_variable: <class 'str'>\n",
      "type of reassigned_variable: <class 'float'>\n"
     ]
    }
   ],
   "source": [
    "# This needs to be above the fucntion calls below\n",
    "def print_the_type(reassigned_variable):\n",
    "    print(\"type of reassigned_variable:\", type(reassigned_variable))\n",
    "\n",
    "\n",
    "# First it is an integer\n",
    "reassigned_variable = 10\n",
    "print_the_type(reassigned_variable)\n",
    "\n",
    "# Then it is assigned as a string\n",
    "reassigned_variable = \"Aaron\"\n",
    "print_the_type(reassigned_variable)\n",
    "\n",
    "# Then it is assigned as a float\n",
    "reassigned_variable = 6.1\n",
    "print_the_type(reassigned_variable)"
   ]
  },
  {
   "cell_type": "markdown",
   "metadata": {},
   "source": [
    "### Converting strings to int\n"
   ]
  },
  {
   "cell_type": "code",
   "execution_count": 56,
   "metadata": {},
   "outputs": [
    {
     "name": "stdout",
     "output_type": "stream",
     "text": [
      "type_age: <class 'str'>\n",
      "age: 25\n",
      "\n",
      "type of int_age: <class 'int'>\n",
      "int_age: 25\n"
     ]
    }
   ],
   "source": [
    "age = \"25\"\n",
    "type_age = type(age)\n",
    "\n",
    "print(\"type_age:\", type_age)\n",
    "print(\"age:\", age)\n",
    "\n",
    "print(\"\", end=\"\\n\")\n",
    "int_age = int(age)\n",
    "\n",
    "print(\"type of int_age:\", type(int_age))\n",
    "print(\"int_age:\", int_age)"
   ]
  },
  {
   "cell_type": "markdown",
   "metadata": {},
   "source": [
    "### Try/Catch for integer conversion\n"
   ]
  },
  {
   "cell_type": "code",
   "execution_count": 55,
   "metadata": {},
   "outputs": [
    {
     "name": "stdout",
     "output_type": "stream",
     "text": [
      "This is from the exception being printed:\n",
      "invalid literal for int() with base 10: 'Aaron'\n",
      "\n",
      "This is from using the trackback import:\n"
     ]
    },
    {
     "name": "stderr",
     "output_type": "stream",
     "text": [
      "  File \"/var/folders/x_/w5w8g47x0tlf_vh8x9y0rrz80000gn/T/ipykernel_6022/2189347117.py\", line 5, in <module>\n",
      "    int(not_a_real_age)\n",
      "    ~~~^^^^^^^^^^^^^^^^\n"
     ]
    }
   ],
   "source": [
    "import traceback\n",
    "\n",
    "try:\n",
    "    not_a_real_age = \"Aaron\"\n",
    "    int(not_a_real_age)\n",
    "except Exception as exception:\n",
    "    print(\"This is from the exception being printed:\")\n",
    "    print(exception)\n",
    "\n",
    "    print(\"\", end=\"\\n\")\n",
    "    print(\"This is from using the trackback import:\")\n",
    "    traceback.print_tb(exception.__traceback__)"
   ]
  },
  {
   "cell_type": "markdown",
   "metadata": {},
   "source": [
    "### Conversion of a float to an integer\n"
   ]
  },
  {
   "cell_type": "code",
   "execution_count": 72,
   "metadata": {},
   "outputs": [
    {
     "name": "stdout",
     "output_type": "stream",
     "text": [
      "Making the float_number above than 0.5\n",
      "\n",
      "type of float_number: <class 'float'>\n",
      "float_number:  5.9\n",
      "\n",
      "type of integer_number: <class 'int'>\n",
      "integer_number:  5\n",
      "\n",
      "------------------------------\n",
      "\n",
      "Making the float_number lower than 0.5\n",
      "\n",
      "type of float_number: <class 'float'>\n",
      "float_number:  6.1\n",
      "\n",
      "type of integer_number: <class 'int'>\n",
      "integer_number:  6\n"
     ]
    }
   ],
   "source": [
    "print(\"Making the float_number above than 0.5\")\n",
    "\n",
    "float_number = 5.9\n",
    "\n",
    "print(\"\", end=\"\\n\")\n",
    "print(\"type of float_number:\", type(float_number))\n",
    "print(\"float_number: \", float_number)\n",
    "\n",
    "integer_number = int(float_number)\n",
    "\n",
    "print(\"\", end=\"\\n\")\n",
    "print(\"type of integer_number:\", type(integer_number))\n",
    "print(\"integer_number: \", integer_number)\n",
    "\n",
    "print(\"\\n------------------------------\\n\")\n",
    "\n",
    "print(\"Making the float_number lower than 0.5\")\n",
    "print(\"\", end=\"\\n\")\n",
    "\n",
    "float_number = 6.1\n",
    "\n",
    "print(\"type of float_number:\", type(float_number))\n",
    "print(\"float_number: \", float_number)\n",
    "\n",
    "integer_number = int(float_number)\n",
    "\n",
    "print(\"\", end=\"\\n\")\n",
    "print(\"type of integer_number:\", type(integer_number))\n",
    "print(\"integer_number: \", integer_number)"
   ]
  }
 ],
 "metadata": {
  "kernelspec": {
   "display_name": "venv",
   "language": "python",
   "name": "python3"
  },
  "language_info": {
   "codemirror_mode": {
    "name": "ipython",
    "version": 3
   },
   "file_extension": ".py",
   "mimetype": "text/x-python",
   "name": "python",
   "nbconvert_exporter": "python",
   "pygments_lexer": "ipython3",
   "version": "3.13.1"
  }
 },
 "nbformat": 4,
 "nbformat_minor": 2
}
